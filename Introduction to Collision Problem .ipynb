{
 "cells": [
  {
   "cell_type": "markdown",
   "metadata": {},
   "source": [
    "### Clearly define a problem or an idea of your choice. Remember that data science problems always target an audience and are meant to help a group of stakeholders solve a problem, so make sure that you explicitly describe your audience and why they would care about your problem"
   ]
  },
  {
   "cell_type": "markdown",
   "metadata": {},
   "source": [
    "This project is meant to aid the Seattle police department and the Seattle inhabitants to avoid collisions by analyzing and predicting the severity of collisions based on the given data. In current times, there are more collisions then ever due to driving under influence, driving with inattention, and pedestrians & bicyclists walking around with inattention. \n",
    "\n",
    "**I would like to further investigate on the following in this project:**\n",
    "1. What factors increase the chance of collision? \n",
    "2. Is it possible to predict the number of collisions in a day given certain characteristics? If so, how accurate can it be? \n",
    "3. How can we reduce the number of collision? "
   ]
  },
  {
   "cell_type": "markdown",
   "metadata": {},
   "source": [
    "### Describe the data that you will be using to solve the problem or execute your idea. So make sure that you provide adequate explanation and discussion, with examples, of the data that you will be using.\n",
    "\n"
   ]
  },
  {
   "cell_type": "markdown",
   "metadata": {},
   "source": [
    "For this project, I will be using the collision dataset from Seattle GeoData, which was last updated 2 years ago. This dataset has Severity Code which is a code that corresponds to the severity of the collision. For example:\n",
    "> **3 -- fatality** \n",
    "\n",
    "> **2b -- serious injury**\n",
    "\n",
    "> **2 -- injury** \n",
    "\n",
    "> **1 -- prob damage** \n",
    "\n",
    "> **0 -- unknown**\n",
    "\n",
    "With these outcomes, I will be building a classification model to predict future collisions given the certain characteristics. \n",
    "\n",
    "I find the following data to be helpful to predict the severity of the collision in the first glance: \n",
    "\n",
    "1. SPEEDING \n",
    "2. PEDROWNOTGRNT\n",
    "3. LIGHTCOND \n",
    "4. ROADCOND \n",
    "5. WEATHER\n",
    "6. UNDERINFL \n",
    "7. INATTENTIONIND \n",
    "8. INCDTTM \n",
    "9. PEDCOUNT \n",
    "10. PEDCYLCOUNT\n",
    "11. VHECOUNT\n",
    "12. ADDRTYPE\n",
    "\n",
    "*THE ATTRIBUTE INFROMATION IS IN THE IBM CAPSTONE PROJECT NOTEBOOK* \n",
    "\n"
   ]
  },
  {
   "cell_type": "code",
   "execution_count": null,
   "metadata": {},
   "outputs": [],
   "source": []
  }
 ],
 "metadata": {
  "kernelspec": {
   "display_name": "Python 3",
   "language": "python",
   "name": "python3"
  },
  "language_info": {
   "codemirror_mode": {
    "name": "ipython",
    "version": 3
   },
   "file_extension": ".py",
   "mimetype": "text/x-python",
   "name": "python",
   "nbconvert_exporter": "python",
   "pygments_lexer": "ipython3",
   "version": "3.7.6"
  }
 },
 "nbformat": 4,
 "nbformat_minor": 4
}
